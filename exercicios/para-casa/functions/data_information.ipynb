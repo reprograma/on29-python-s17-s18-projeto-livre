{
 "cells": [
  {
   "cell_type": "code",
   "execution_count": 1,
   "metadata": {},
   "outputs": [],
   "source": [
    "import pandas as pd"
   ]
  },
  {
   "cell_type": "code",
   "execution_count": 2,
   "metadata": {},
   "outputs": [],
   "source": [
    "def info_dataframe(df_generic):\n",
    "    \n",
    "    shape = df_generic.shape\n",
    "    type =  df_generic.dtypes\n",
    "    null = df_generic.isnull().sum()\n",
    "    describe = df_generic.describe(include='all').T\n",
    "\n",
    "    return shape,type,null,describe"
   ]
  },
  {
   "cell_type": "code",
   "execution_count": 3,
   "metadata": {},
   "outputs": [],
   "source": [
    "def percentage_NaN (null, df_generic):\n",
    "    \n",
    "    nan = null[null > 0]\n",
    "    list_proportion = []\n",
    "    drop_NaN = False\n",
    "    message = \"\"  \n",
    "\n",
    "    for col, i in nan.items():\n",
    "        proportion_nan = i / len(df_generic)\n",
    "        list_proportion.append((col, proportion_nan))\n",
    "\n",
    "        if proportion_nan > 0.5:\n",
    "            drop_NaN = True\n",
    "            message = \"Verifique os Valores de NaN das Colunas\"\n",
    "\n",
    "    return list_proportion, drop_NaN, message"
   ]
  }
 ],
 "metadata": {
  "kernelspec": {
   "display_name": "Python 3",
   "language": "python",
   "name": "python3"
  },
  "language_info": {
   "codemirror_mode": {
    "name": "ipython",
    "version": 3
   },
   "file_extension": ".py",
   "mimetype": "text/x-python",
   "name": "python",
   "nbconvert_exporter": "python",
   "pygments_lexer": "ipython3",
   "version": "3.12.2"
  }
 },
 "nbformat": 4,
 "nbformat_minor": 2
}
