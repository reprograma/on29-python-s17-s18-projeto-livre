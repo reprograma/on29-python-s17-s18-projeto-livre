{
 "cells": [
  {
   "cell_type": "code",
   "execution_count": 1,
   "metadata": {},
   "outputs": [],
   "source": [
    "import pandas as pd"
   ]
  },
  {
   "cell_type": "code",
   "execution_count": 3,
   "metadata": {},
   "outputs": [],
   "source": [
    "def replace_cols(df_generic, dic_replace_cols ):\n",
    "\n",
    "    df_generic.rename(columns=dic_replace_cols, inplace=True)\n",
    "    \n",
    "    return df_generic"
   ]
  },
  {
   "cell_type": "code",
   "execution_count": 5,
   "metadata": {},
   "outputs": [],
   "source": [
    "def replace_lines_multiple(df_generic, lines_replace):\n",
    "\n",
    "    for cols, dic in lines_replace.items():\n",
    "        \n",
    "        df_generic[cols] = df_generic[cols].replace(dic)\n",
    "\n",
    "    return df_generic"
   ]
  }
 ],
 "metadata": {
  "kernelspec": {
   "display_name": "Python 3",
   "language": "python",
   "name": "python3"
  },
  "language_info": {
   "codemirror_mode": {
    "name": "ipython",
    "version": 3
   },
   "file_extension": ".py",
   "mimetype": "text/x-python",
   "name": "python",
   "nbconvert_exporter": "python",
   "pygments_lexer": "ipython3",
   "version": "3.12.2"
  }
 },
 "nbformat": 4,
 "nbformat_minor": 2
}
